{
 "cells": [
  {
   "cell_type": "code",
   "execution_count": 16,
   "id": "initial_id",
   "metadata": {
    "collapsed": true,
    "ExecuteTime": {
     "end_time": "2023-08-15T10:40:35.505051Z",
     "start_time": "2023-08-15T10:40:35.482601Z"
    }
   },
   "outputs": [],
   "source": [
    "import pandas as pd\n",
    "\n",
    "df = pd.read_excel('/Users/ngvngoc/Documents/Machine-Learning/Pset/Week1/data_1.xlsx')\n",
    "data = df.values"
   ]
  },
  {
   "cell_type": "code",
   "execution_count": 17,
   "id": "1dbc04e3",
   "metadata": {
    "ExecuteTime": {
     "end_time": "2023-08-15T10:40:35.564220Z",
     "start_time": "2023-08-15T10:40:35.512364Z"
    }
   },
   "outputs": [
    {
     "name": "stdout",
     "output_type": "stream",
     "text": [
      "Coefficients: \n",
      " [[1. 0.]\n",
      " [0. 0.]]\n",
      "Mean squared error: 0.00\n",
      "Coefficient of determination: 1.00\n"
     ]
    },
    {
     "data": {
      "text/plain": "<Figure size 640x480 with 1 Axes>",
      "image/png": "[encoded data removed]"
     },
     "metadata": {},
     "output_type": "display_data"
    }
   ],
   "source": [
    "import numpy as np\n",
    "\n",
    "x = data[:, 0]\n",
    "x = x.reshape(-1,1)\n",
    "x = np.hstack((x, np.ones(30).reshape(-1,1)))\n",
    "print(x)"
   ]
  },
  {
   "cell_type": "code",
   "execution_count": 14,
   "id": "2a7e9477",
   "metadata": {
    "ExecuteTime": {
     "end_time": "2023-08-15T10:40:03.012419Z",
     "start_time": "2023-08-15T10:40:02.953428Z"
    }
   },
   "outputs": [
    {
     "name": "stdout",
     "output_type": "stream",
     "text": [
      "Coefficients: \n",
      " [[1. 0.]\n",
      " [0. 0.]]\n",
      "Mean squared error: 0.00\n",
      "Coefficient of determination: 1.00\n"
     ]
    },
    {
     "data": {
      "text/plain": "<Figure size 640x480 with 1 Axes>",
      "image/png": "[encoded data removed]"
     },
     "metadata": {},
     "output_type": "display_data"
    }
   ],
   "source": [
    "import matplotlib.pyplot as plt\n",
    "import numpy as np\n",
    "\n",
    "from sklearn import datasets, linear_model\n",
    "from sklearn.metrics import mean_squared_error, r2_score\n",
    "\n",
    "\n",
    "x = data[:, 0]\n",
    "x = x.reshape(-1,1)\n",
    "x = np.hstack((x, np.ones(30).reshape(-1,1)))\n",
    "y = data[:, 1]\n",
    "y = y.reshape(-1, 1)\n",
    "\n",
    "# Split the data into training/testing sets\n",
    "x_train = x[:15]\n",
    "x_test = x[15:]\n",
    "\n",
    "# Split the targets into training/testing sets\n",
    "y_train = x[:15]\n",
    "y_test = x[15:]\n",
    "\n",
    "# Create linear regression object\n",
    "regr = linear_model.LinearRegression()\n",
    "\n",
    "# Train the model using the training sets\n",
    "regr.fit(x_train, y_train)\n",
    "\n",
    "# Make predictions using the testing set\n",
    "y_pred = regr.predict(x_test)\n",
    "\n",
    "# The coefficients\n",
    "print(\"Coefficients: \\n\", regr.coef_)\n",
    "# The mean squared error\n",
    "print(\"Mean squared error: %.2f\" % mean_squared_error(y_test, y_pred))\n",
    "# The coefficient of determination: 1 is perfect prediction\n",
    "print(\"Coefficient of determination: %.2f\" % r2_score(y_test, y_pred))\n",
    "\n",
    "# Plot outputs\n",
    "plt.scatter(x_test, y_test, color=\"black\")\n",
    "plt.plot(x_test, y_pred, color=\"blue\", linewidth=3)\n",
    "\n",
    "plt.xticks(())\n",
    "plt.yticks(())\n",
    "\n",
    "plt.show()"
   ]
  },
  {
   "cell_type": "code",
   "execution_count": 15,
   "id": "e289b30a",
   "metadata": {
    "ExecuteTime": {
     "end_time": "2023-08-15T10:40:11.308337Z",
     "start_time": "2023-08-15T10:40:11.294395Z"
    }
   },
   "outputs": [],
   "source": []
  }
 ],
 "metadata": {
  "kernelspec": {
   "display_name": "Python 3",
   "language": "python",
   "name": "python3"
  },
  "language_info": {
   "codemirror_mode": {
    "name": "ipython",
    "version": 3
   },
   "file_extension": ".py",
   "mimetype": "text/x-python",
   "name": "python",
   "nbconvert_exporter": "python",
   "pygments_lexer": "ipython3",
   "version": "3.10.8"
  }
 },
 "nbformat": 4,
 "nbformat_minor": 5
}
